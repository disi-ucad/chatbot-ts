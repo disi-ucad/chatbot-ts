{
 "cells": [
  {
   "cell_type": "code",
   "execution_count": 1,
   "id": "0c558d59",
   "metadata": {},
   "outputs": [],
   "source": [
    "import re\n",
    "\n",
    "from nltk.corpus import wordnet as wn"
   ]
  },
  {
   "cell_type": "code",
   "execution_count": 2,
   "id": "e549925c",
   "metadata": {},
   "outputs": [
    {
     "data": {
      "text/plain": [
       "[Synset('dog.n.01'),\n",
       " Synset('frump.n.01'),\n",
       " Synset('dog.n.03'),\n",
       " Synset('cad.n.01'),\n",
       " Synset('frank.n.02'),\n",
       " Synset('pawl.n.01'),\n",
       " Synset('andiron.n.01'),\n",
       " Synset('chase.v.01')]"
      ]
     },
     "execution_count": 2,
     "metadata": {},
     "output_type": "execute_result"
    }
   ],
   "source": [
    "wn.synsets('dog')"
   ]
  },
  {
   "cell_type": "code",
   "execution_count": 10,
   "id": "7ac13e47",
   "metadata": {},
   "outputs": [
    {
     "name": "stdout",
     "output_type": "stream",
     "text": [
      "{'hello': {'hello', 'hi', 'how do you do', 'howdy', 'hullo'}, 'timings': {'clock', 'time', 'timing'}}\n"
     ]
    }
   ],
   "source": [
    "# Building a list of Keywords\n",
    "\n",
    "list_words=['hello','timings']\n",
    "\n",
    "list_syn={}\n",
    "\n",
    "for word in list_words:\n",
    "\n",
    "    synonyms=[]\n",
    "\n",
    "    for syn in wn.synsets(word):\n",
    "\n",
    "        for lem in syn.lemmas():\n",
    "\n",
    "\n",
    "            # Remove any special characters from synonym strings\n",
    "\n",
    "            lem_name = re.sub('[^a-zA-Z0-9 \\n\\.]', ' ', lem.name())\n",
    "\n",
    "            synonyms.append(lem_name)\n",
    "\n",
    "\n",
    "    list_syn[word]=set(synonyms)\n",
    "\n",
    "\n",
    "print (list_syn)"
   ]
  },
  {
   "cell_type": "code",
   "execution_count": 4,
   "id": "a4bbb3ca",
   "metadata": {},
   "outputs": [
    {
     "name": "stdout",
     "output_type": "stream",
     "text": [
      "{'greet': ['.*\\\\bhello\\\\b.*', '.*\\\\bhi\\\\b.*', '.*\\\\bhow do you do\\\\b.*', '.*\\\\bhowdy\\\\b.*', '.*\\\\bhullo\\\\b.*'], 'timings': ['.*\\\\bclock\\\\b.*', '.*\\\\btime\\\\b.*', '.*\\\\btiming\\\\b.*']}\n",
      "{'greet': re.compile('.*\\\\bhello\\\\b.*|.*\\\\bhi\\\\b.*|.*\\\\bhow do you do\\\\b.*|.*\\\\bhowdy\\\\b.*|.*\\\\bhullo\\\\b.*'), 'timings': re.compile('.*\\\\bclock\\\\b.*|.*\\\\btime\\\\b.*|.*\\\\btiming\\\\b.*')}\n"
     ]
    }
   ],
   "source": [
    "# Building dictionary of Intents & Keywords\n",
    "\n",
    "keywords={}\n",
    "\n",
    "keywords_dict={}\n",
    "\n",
    "\n",
    "# Defining a new key in the keywords dictionary\n",
    "\n",
    "keywords['greet']=[]\n",
    "\n",
    "\n",
    "# Populating the values in the keywords dictionary with synonyms of keywords formatted with RegEx metacharacters \n",
    "\n",
    "for synonym in list(list_syn['hello']):\n",
    "\n",
    "    keywords['greet'].append('.*\\\\b'+synonym+'\\\\b.*')\n",
    "\n",
    "\n",
    "# Defining a new key in the keywords dictionary\n",
    "\n",
    "keywords['timings']=[]\n",
    "\n",
    "\n",
    "# Populating the values in the keywords dictionary with synonyms of keywords formatted with RegEx metacharacters \n",
    "\n",
    "for synonym in list(list_syn['timings']):\n",
    "\n",
    "    keywords['timings'].append('.*\\\\b'+synonym+'\\\\b.*')\n",
    "\n",
    "\n",
    "for intent, keys in keywords.items():\n",
    "\n",
    "\n",
    "    # Joining the values in the keywords dictionary with the OR (|) operator updating them in keywords_dict dictionary\n",
    "\n",
    "    keywords_dict[intent]=re.compile('|'.join(keys))\n",
    "\n",
    "print(keywords)\n",
    "print (keywords_dict)"
   ]
  },
  {
   "cell_type": "code",
   "execution_count": 5,
   "id": "d1dfb29b",
   "metadata": {},
   "outputs": [],
   "source": [
    "# Building a dictionary of responses\n",
    "\n",
    "responses={\n",
    "\n",
    "    'greet':'Hello! How can I help you?',\n",
    "\n",
    "    'timings':'We are open from 9AM to 5PM, Monday to Friday. We are closed on weekends and public holidays.',\n",
    "\n",
    "    'fallback':'I dont quite understand. Could you repeat that?',\n",
    "\n",
    "}"
   ]
  },
  {
   "cell_type": "code",
   "execution_count": 6,
   "id": "caf53d04",
   "metadata": {},
   "outputs": [
    {
     "name": "stdout",
     "output_type": "stream",
     "text": [
      "Welcome to MyBank. How may I help you?\n",
      "exit\n",
      "Thank you for visiting.\n"
     ]
    }
   ],
   "source": [
    "print (\"Welcome to MyBank. How may I help you?\")\n",
    "\n",
    "\n",
    "# While loop to run the chatbot indefinetely\n",
    "\n",
    "while (True):  \n",
    "\n",
    "\n",
    "    # Takes the user input and converts all characters to lowercase\n",
    "\n",
    "    user_input = input().lower()\n",
    "\n",
    "\n",
    "    # Defining the Chatbot's exit condition\n",
    "\n",
    "    if user_input in ['quit', 'exit']: \n",
    "\n",
    "        print (\"Thank you for visiting.\")\n",
    "\n",
    "        break    \n",
    "\n",
    "\n",
    "    matched_intent = None \n",
    "\n",
    "\n",
    "    for intent,pattern in keywords_dict.items():\n",
    "\n",
    "\n",
    "        # Using the regular expression search function to look for keywords in user input\n",
    "\n",
    "        if re.search(pattern, user_input): \n",
    "\n",
    "\n",
    "            # if a keyword matches, select the corresponding intent from the keywords_dict dictionary\n",
    "\n",
    "            matched_intent=intent  \n",
    "\n",
    "\n",
    "    # The fallback intent is selected by default\n",
    "\n",
    "    key='fallback' \n",
    "\n",
    "    if matched_intent in responses:\n",
    "\n",
    "\n",
    "        # If a keyword matches, the fallback intent is replaced by the matched intent as the key for the responses dictionary\n",
    "\n",
    "        key = matched_intent \n",
    "\n",
    "\n",
    "    # The chatbot prints the response that matches the selected intent\n",
    "\n",
    "    print (responses[key]) "
   ]
  },
  {
   "cell_type": "code",
   "execution_count": null,
   "id": "53e295fe",
   "metadata": {},
   "outputs": [],
   "source": []
  }
 ],
 "metadata": {
  "kernelspec": {
   "display_name": "Python 3 (ipykernel)",
   "language": "python",
   "name": "python3"
  },
  "language_info": {
   "codemirror_mode": {
    "name": "ipython",
    "version": 3
   },
   "file_extension": ".py",
   "mimetype": "text/x-python",
   "name": "python",
   "nbconvert_exporter": "python",
   "pygments_lexer": "ipython3",
   "version": "3.9.6"
  }
 },
 "nbformat": 4,
 "nbformat_minor": 5
}
