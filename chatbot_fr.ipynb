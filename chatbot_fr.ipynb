{
 "cells": [
  {
   "cell_type": "code",
   "execution_count": 11,
   "id": "5913db2d",
   "metadata": {},
   "outputs": [],
   "source": [
    "import re\n",
    "\n",
    "from nltk.corpus import wordnet as wn\n",
    "\n",
    "import unidecode\n",
    "\n",
    "from time import sleep"
   ]
  },
  {
   "cell_type": "code",
   "execution_count": 12,
   "id": "8d1042ed",
   "metadata": {},
   "outputs": [
    {
     "data": {
      "text/plain": [
       "{'ask': {'appelle', 'est', 'nomme', 'suis'},\n",
       " 'rub': {'chapitre',\n",
       "  'colonne',\n",
       "  'entete',\n",
       "  'glose',\n",
       "  'intitule',\n",
       "  'ligne',\n",
       "  'partie',\n",
       "  'pilier',\n",
       "  'rubrique',\n",
       "  'section',\n",
       "  'tete',\n",
       "  'titre'}}"
      ]
     },
     "execution_count": 12,
     "metadata": {},
     "output_type": "execute_result"
    }
   ],
   "source": [
    "# Creer liste mot-clé\n",
    "\n",
    "list_mot = ['converse', 'rubrique']\n",
    "\n",
    "list_syn_rub = { re.sub('[^a-zA-Z0-9 \\n\\.]', ' ', unidecode.unidecode(lem)).replace(\" \",\"\") for syn in wn.synsets(list_mot[1], lang='fra') for lem in syn.lemma_names('fra') }\n",
    "\n",
    "list_syn = {\n",
    "    'ask': {'appelle', 'suis', 'nomme', 'est'},\n",
    "    'rub': list_syn_rub\n",
    "}\n",
    "list_syn"
   ]
  },
  {
   "cell_type": "code",
   "execution_count": 13,
   "id": "5081abf5",
   "metadata": {},
   "outputs": [],
   "source": [
    "rubriques = [\n",
    "    \"Je me suis préinscrit. Que reste-t-il à faire ?\", \n",
    "    \"Dés que je finis de m'inscrire en ligne , est ce que je peux aller recupérer ma carte d'étudiant?\",\n",
    "    \"Où dois je aller pour récupérer ma carte?\",\n",
    "    \"Si j'ai un souci lors de mon inscription en ligne, à qui je m'adresse? Vers qui dois je me tourner?\"\n",
    "]"
   ]
  },
  {
   "cell_type": "code",
   "execution_count": 14,
   "id": "9f4504dc",
   "metadata": {},
   "outputs": [
    {
     "name": "stdout",
     "output_type": "stream",
     "text": [
      "{'ask': ['.*\\\\best\\\\b.*', '.*\\\\bnomme\\\\b.*', '.*\\\\bappelle\\\\b.*', '.*\\\\bsuis\\\\b.*'], 'rub': ['.*\\\\bintitule\\\\b.*', '.*\\\\bsection\\\\b.*', '.*\\\\brubrique\\\\b.*', '.*\\\\bchapitre\\\\b.*', '.*\\\\bpartie\\\\b.*', '.*\\\\bentete\\\\b.*', '.*\\\\bpilier\\\\b.*', '.*\\\\bcolonne\\\\b.*', '.*\\\\btete\\\\b.*', '.*\\\\btitre\\\\b.*', '.*\\\\bligne\\\\b.*', '.*\\\\bglose\\\\b.*']}\n",
      "{'ask': re.compile('.*\\\\best\\\\b.*|.*\\\\bnomme\\\\b.*|.*\\\\bappelle\\\\b.*|.*\\\\bsuis\\\\b.*'), 'rub': re.compile('.*\\\\bintitule\\\\b.*|.*\\\\bsection\\\\b.*|.*\\\\brubrique\\\\b.*|.*\\\\bchapitre\\\\b.*|.*\\\\bpartie\\\\b.*|.*\\\\bentete\\\\b.*|.*\\\\bpilier\\\\b.*|.*\\\\bcolonne\\\\b.*|.*\\\\btete\\\\b.*|.*\\\\btitre\\\\b.*|.*\\\\bligne\\\\b.*|.*\\\\bglo)}\n"
     ]
    }
   ],
   "source": [
    "# Building dictionary of Intents & Keywords\n",
    "\n",
    "keywords={}\n",
    "\n",
    "keywords_dict={}\n",
    "\n",
    "# Defining keys in the keywords dictionary\n",
    "\n",
    "keywords['ask']=[]\n",
    "keywords['rub']=[]\n",
    "\n",
    "# Populating the values in the keywords dictionary with synonyms of keywords formatted with RegEx metacharacters \n",
    "\n",
    "for synonym in list(list_syn['ask']):\n",
    "\n",
    "    keywords['ask'].append('.*\\\\b'+synonym+'\\\\b.*')\n",
    "\n",
    "\n",
    "# Populating the values in the keywords dictionary with synonyms of keywords formatted with RegEx metacharacters \n",
    "\n",
    "for synonym in list(list_syn['rub']):\n",
    "\n",
    "    keywords['rub'].append('.*\\\\b'+synonym+'\\\\b.*')\n",
    "\n",
    "\n",
    "for intent, keys in keywords.items():\n",
    "\n",
    "\n",
    "    # Joining the values in the keywords dictionary with the OR (|) operator updating them in keywords_dict dictionary\n",
    "\n",
    "    keywords_dict[intent]=re.compile('|'.join(keys))\n",
    "    \n",
    "\n",
    "print(keywords)\n",
    "print (keywords_dict)\n",
    "\n",
    "\n",
    "\n"
   ]
  },
  {
   "cell_type": "code",
   "execution_count": 15,
   "id": "96d30cd5",
   "metadata": {
    "scrolled": true
   },
   "outputs": [
    {
     "name": "stdout",
     "output_type": "stream",
     "text": [
      "{'ask': ['Puis-je connaitre votre prénom, SVP', 'Puis-je connaitre votre nom, SVP', 'Votre email, SVP'], 'timings': \"1. Je me suis préinscrit. Que reste-t-il à faire ?\\n2. Dés que je finis de m'inscrire en ligne , est ce que je peux aller recupérer ma carte d'étudiant?\\n3. Où dois je aller pour récupérer ma carte?\\n4. Si j'ai un souci lors de mon inscription en ligne, à qui je m'adresse? Vers qui dois je me tourner?\", 'fallback': 'Je ne comprends pas bien. Pourriez-vous répéter ?'}\n"
     ]
    }
   ],
   "source": [
    "# Building a dictionary of responses\n",
    "\n",
    "rub_res = \"\\n\".join([str(i+1)+\". \"+rubriques[i] for i in range(len(rubriques))])\n",
    "\n",
    "responses={\n",
    "\n",
    "    'ask':['Puis-je connaitre votre prénom, SVP ?', 'Votre nom, SVP ?', 'Et enfin votre email, SVP ?'],\n",
    "\n",
    "    'rub':rub_res,\n",
    "\n",
    "    'fallback':'Je ne comprends pas bien. Pourriez-vous répéter, SVP ?',\n",
    "\n",
    "}\n",
    "print(responses)"
   ]
  },
  {
   "cell_type": "code",
   "execution_count": 27,
   "id": "6d71aa5c",
   "metadata": {},
   "outputs": [],
   "source": [
    "rub_res = {\n",
    "    1: [\"Après validation de votre préinscription en ligne, vous allez recevoir par email une message vous informant de la disponibilité en ligne (dans l'Espace Etudiant de la préinscription en ligne) de votre fiche d'inscription et de votre certificat d'inscription.\",\n",
    "        \"Vous pouvez, par la suite, au niveau du service de scolarité de votre établissement muni de votre dossier d'inscription complet pour retirer votre carte d'étudiant.\"],\n",
    "    2: [\"Aprés la préinscription en ligne, présentez vous à votre scolarité muni de votre dossier.\", \"Apres vérification, les agents de scolarité procéderont à la confection de votre carte d'étudiant et vous la remettrons.\"],\n",
    "    3: [\"A la scolarité de votre établissement (faculté, école,...).\"],\n",
    "    4: [\"Un service support est à votre disposition pour tout probléme concernant la préinscription en ligne.\", \"L'équipe support vous recevra au DRTP (ex Centre de calcul), sise derrière la Faculté des Sciences et Techniques (Fac Sciences).\",\n",
    "        \"Disponible en semaine de 09h à 13h et de 15h à 17h  et les samedis de 09h à 12h, vous pouvez également les joindre au 77 856 54 90 ou par mail : support@ucad.edu.sn\"]\n",
    "}"
   ]
  },
  {
   "cell_type": "code",
   "execution_count": 25,
   "id": "cc4b7ffd",
   "metadata": {},
   "outputs": [],
   "source": [
    "def searchText(inputText, step):\n",
    "    inputText = inputText.lower()\n",
    "    sizeText = len(inputText.split(\" \"))\n",
    "    if(sizeText == 1):\n",
    "        return (inputText, ++step)\n",
    "    \n",
    "    for intent,pattern in keywords_dict.items():\n",
    "\n",
    "        # Using the regular expression search function to look for keywords in user input\n",
    "        if re.search(pattern, inputText): \n",
    "\n",
    "            # if a keyword matches, select the corresponding intent from the keywords_dict dictionary\n",
    "            matched_intent=intent \n",
    "    \n",
    "    if matched_intent in responses:\n",
    "        info = inputText.split(\" \")[-1]\n",
    "        return (info, ++step)\n",
    "    \n",
    "    return (\"\", step)"
   ]
  },
  {
   "cell_type": "code",
   "execution_count": 26,
   "id": "54c7590d",
   "metadata": {},
   "outputs": [
    {
     "name": "stdout",
     "output_type": "stream",
     "text": [
      "Bonjour\n",
      "Puis-je connaitre votre prénom, SVP\n",
      "Mon nom est testa\n",
      "ask\n"
     ]
    }
   ],
   "source": [
    "print('Bonjour')\n",
    "sleep(2)\n",
    "ask_step = 0\n",
    "choice = 0\n",
    "list_info = []\n",
    "while(True):\n",
    "    try:\n",
    "        \n",
    "        # Defining the Chatbot's exit condition\n",
    "        if ask_step > 2 and choice == -1: \n",
    "            print (\"Merci de votre visite.\")\n",
    "            break  \n",
    "\n",
    "        if ask_step <= 2:\n",
    "            print(responses['ask'][ask_step])\n",
    "            res = input(\"\")\n",
    "            info, ask_step = searchText(res, ask_step)\n",
    "            if info != \"\": list_info.append(info.capitalize) else: raise ValueError(\"\")\n",
    "            \n",
    "        if ask_step > 2 and choice != -1:\n",
    "            print(f'Pour vous aider {list_info[0]} {list_info[1]},\\n Merci de choisir parmis les rubrique suivantes :')\n",
    "            sleep(1)\n",
    "            print(responses['rub'])\n",
    "            choice = int(input())\n",
    "            if(choice > 0 and choice < 5):\n",
    "                for resp in rub_res[choice]:\n",
    "                    print(resp)\n",
    "                    sleep(1)\n",
    "                break\n",
    "            else: raise ValueError(\"\")\n",
    "            \n",
    "            \n",
    "            \n",
    "    except Exception as e:\n",
    "        print(responses['fallback'])\n",
    "    break"
   ]
  },
  {
   "cell_type": "code",
   "execution_count": null,
   "id": "68b7ec74",
   "metadata": {},
   "outputs": [],
   "source": []
  }
 ],
 "metadata": {
  "kernelspec": {
   "display_name": "Python 3 (ipykernel)",
   "language": "python",
   "name": "python3"
  },
  "language_info": {
   "codemirror_mode": {
    "name": "ipython",
    "version": 3
   },
   "file_extension": ".py",
   "mimetype": "text/x-python",
   "name": "python",
   "nbconvert_exporter": "python",
   "pygments_lexer": "ipython3",
   "version": "3.9.6"
  }
 },
 "nbformat": 4,
 "nbformat_minor": 5
}
