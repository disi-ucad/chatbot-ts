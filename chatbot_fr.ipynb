{
 "cells": [
  {
   "cell_type": "code",
   "execution_count": 53,
   "id": "5913db2d",
   "metadata": {},
   "outputs": [],
   "source": [
    "import re\n",
    "\n",
    "from nltk.corpus import wordnet as wn\n",
    "\n",
    "import unidecode\n",
    "\n",
    "from time import sleep"
   ]
  },
  {
   "cell_type": "code",
   "execution_count": 54,
   "id": "8d1042ed",
   "metadata": {},
   "outputs": [
    {
     "data": {
      "text/plain": [
       "{'ask': {'appelle', 'est', 'nomme', 'suis'},\n",
       " 'rub': {'chapitre',\n",
       "  'colonne',\n",
       "  'entete',\n",
       "  'glose',\n",
       "  'intitule',\n",
       "  'ligne',\n",
       "  'partie',\n",
       "  'pilier',\n",
       "  'rubrique',\n",
       "  'section',\n",
       "  'tete',\n",
       "  'titre'}}"
      ]
     },
     "execution_count": 54,
     "metadata": {},
     "output_type": "execute_result"
    }
   ],
   "source": [
    "# Creer liste mot-clé\n",
    "\n",
    "list_mot = ['converse', 'rubrique']\n",
    "\n",
    "list_syn_rub = { re.sub('[^a-zA-Z0-9 \\n\\.]', ' ', unidecode.unidecode(lem)).replace(\" \",\"\") for syn in wn.synsets(list_mot[1], lang='fra') for lem in syn.lemma_names('fra') }\n",
    "\n",
    "list_syn = {\n",
    "    'ask': {'appelle', 'suis', 'nomme', 'est'},\n",
    "    'rub': list_syn_rub\n",
    "}\n",
    "list_syn"
   ]
  },
  {
   "cell_type": "code",
   "execution_count": 55,
   "id": "5081abf5",
   "metadata": {},
   "outputs": [],
   "source": [
    "rubriques = [\n",
    "    \"Je me suis préinscrit. Que reste-t-il à faire ?\", \n",
    "    \"Dés que je finis de m'inscrire en ligne , est ce que je peux aller recupérer ma carte d'étudiant?\",\n",
    "    \"Où dois je aller pour récupérer ma carte?\",\n",
    "    \"Si j'ai un souci lors de mon inscription en ligne, à qui je m'adresse? Vers qui dois je me tourner?\"\n",
    "]"
   ]
  },
  {
   "cell_type": "code",
   "execution_count": 56,
   "id": "9f4504dc",
   "metadata": {},
   "outputs": [
    {
     "name": "stdout",
     "output_type": "stream",
     "text": [
      "{'ask': ['.*\\\\best\\\\b.*', '.*\\\\bnomme\\\\b.*', '.*\\\\bsuis\\\\b.*', '.*\\\\bappelle\\\\b.*'], 'rub': ['.*\\\\brubrique\\\\b.*', '.*\\\\bpartie\\\\b.*', '.*\\\\bentete\\\\b.*', '.*\\\\bchapitre\\\\b.*', '.*\\\\btete\\\\b.*', '.*\\\\bligne\\\\b.*', '.*\\\\btitre\\\\b.*', '.*\\\\bsection\\\\b.*', '.*\\\\bglose\\\\b.*', '.*\\\\bcolonne\\\\b.*', '.*\\\\bintitule\\\\b.*', '.*\\\\bpilier\\\\b.*']}\n",
      "{'ask': re.compile('.*\\\\best\\\\b.*|.*\\\\bnomme\\\\b.*|.*\\\\bsuis\\\\b.*|.*\\\\bappelle\\\\b.*'), 'rub': re.compile('.*\\\\brubrique\\\\b.*|.*\\\\bpartie\\\\b.*|.*\\\\bentete\\\\b.*|.*\\\\bchapitre\\\\b.*|.*\\\\btete\\\\b.*|.*\\\\bligne\\\\b.*|.*\\\\btitre\\\\b.*|.*\\\\bsection\\\\b.*|.*\\\\bglose\\\\b.*|.*\\\\bcolonne\\\\b.*|.*\\\\bintitule\\\\b.*|.*\\\\bpili)}\n"
     ]
    }
   ],
   "source": [
    "# Building dictionary of Intents & Keywords\n",
    "\n",
    "keywords={}\n",
    "\n",
    "keywords_dict={}\n",
    "\n",
    "# Defining keys in the keywords dictionary\n",
    "\n",
    "keywords['ask']=[]\n",
    "keywords['rub']=[]\n",
    "\n",
    "# Populating the values in the keywords dictionary with synonyms of keywords formatted with RegEx metacharacters \n",
    "\n",
    "for synonym in list(list_syn['ask']):\n",
    "\n",
    "    keywords['ask'].append('.*\\\\b'+synonym+'\\\\b.*')\n",
    "\n",
    "\n",
    "# Populating the values in the keywords dictionary with synonyms of keywords formatted with RegEx metacharacters \n",
    "\n",
    "for synonym in list(list_syn['rub']):\n",
    "\n",
    "    keywords['rub'].append('.*\\\\b'+synonym+'\\\\b.*')\n",
    "\n",
    "\n",
    "for intent, keys in keywords.items():\n",
    "\n",
    "\n",
    "    # Joining the values in the keywords dictionary with the OR (|) operator updating them in keywords_dict dictionary\n",
    "\n",
    "    keywords_dict[intent]=re.compile('|'.join(keys))\n",
    "    \n",
    "\n",
    "print(keywords)\n",
    "print (keywords_dict)\n",
    "\n",
    "\n",
    "\n"
   ]
  },
  {
   "cell_type": "code",
   "execution_count": 57,
   "id": "96d30cd5",
   "metadata": {},
   "outputs": [
    {
     "name": "stdout",
     "output_type": "stream",
     "text": [
      "{'ask': ['Puis-je connaitre votre prénom, SVP', 'Puis-je connaitre votre nom, SVP', 'Votre email, SVP'], 'timings': \"1. Je me suis préinscrit. Que reste-t-il à faire ?\\n2. Dés que je finis de m'inscrire en ligne , est ce que je peux aller recupérer ma carte d'étudiant?\\n3. Où dois je aller pour récupérer ma carte?\\n4. Si j'ai un souci lors de mon inscription en ligne, à qui je m'adresse? Vers qui dois je me tourner?\", 'fallback': 'Je ne comprends pas bien. Pourriez-vous répéter ?'}\n"
     ]
    }
   ],
   "source": [
    "# Building a dictionary of responses\n",
    "\n",
    "rub_res = \"\\n\".join([str(i+1)+\". \"+rubriques[i] for i in range(len(rubriques))])\n",
    "\n",
    "responses={\n",
    "\n",
    "    'ask':['Puis-je connaitre votre prénom, SVP', 'Puis-je connaitre votre nom, SVP', 'Votre email, SVP'],\n",
    "\n",
    "    'timings':rub_res,\n",
    "\n",
    "    'fallback':'Je ne comprends pas bien. Pourriez-vous répéter ?',\n",
    "\n",
    "}\n",
    "print(responses)"
   ]
  },
  {
   "cell_type": "code",
   "execution_count": 68,
   "id": "54c7590d",
   "metadata": {},
   "outputs": [
    {
     "name": "stdout",
     "output_type": "stream",
     "text": [
      "Bonjour\n",
      "Puis-je connaitre votre prénom, SVP\n",
      "hjkl\n"
     ]
    }
   ],
   "source": [
    "print('Bonjour')\n",
    "ask_step = 0\n",
    "choice = 0\n",
    "while(True):\n",
    "    try:\n",
    "        # Defining the Chatbot's exit condition\n",
    "\n",
    "        if ask_step > 2 and choice == -1: \n",
    "\n",
    "            print (\"Thank you for visiting.\")\n",
    "            break  \n",
    "\n",
    "        if ask_step <= 2:\n",
    "            print(responses['ask'][ask_step])\n",
    "            res = input(\"\")\n",
    "            \n",
    "    except Exception as e:\n",
    "        print(e)\n",
    "    break"
   ]
  }
 ],
 "metadata": {
  "kernelspec": {
   "display_name": "Python 3 (ipykernel)",
   "language": "python",
   "name": "python3"
  },
  "language_info": {
   "codemirror_mode": {
    "name": "ipython",
    "version": 3
   },
   "file_extension": ".py",
   "mimetype": "text/x-python",
   "name": "python",
   "nbconvert_exporter": "python",
   "pygments_lexer": "ipython3",
   "version": "3.9.6"
  }
 },
 "nbformat": 4,
 "nbformat_minor": 5
}
